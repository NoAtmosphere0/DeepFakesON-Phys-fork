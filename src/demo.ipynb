{
 "cells": [
  {
   "cell_type": "code",
   "execution_count": 2,
   "metadata": {},
   "outputs": [],
   "source": [
    "from vid_to_deepframes_rawframes import vid_to_frames_rawframes\n",
    "from DeepFakesON_Phys_extract_predictions import predict_deepfake"
   ]
  },
  {
   "cell_type": "code",
   "execution_count": 2,
   "metadata": {},
   "outputs": [
    {
     "data": {
      "text/plain": [
       "'c:\\\\Long\\\\Uni\\\\Nam3\\\\pattern_reg\\\\seminar\\\\src'"
      ]
     },
     "execution_count": 2,
     "metadata": {},
     "output_type": "execute_result"
    }
   ],
   "source": [
    "%pwd"
   ]
  },
  {
   "cell_type": "code",
   "execution_count": 3,
   "metadata": {},
   "outputs": [
    {
     "name": "stderr",
     "output_type": "stream",
     "text": [
      "c:\\Long\\Uni\\Nam3\\pattern_reg\\seminar\\src\\vid_to_deepframes_rawframes.py:89: RuntimeWarning: invalid value encountered in divide\n",
      "  D_G[:,:,ka-1] = ( C_G[:,:,ka] - C_G[:,:,ka-1] ) / ( C_G[:,:,ka] + C_G[:,:,ka-1] );\n",
      "c:\\Long\\Uni\\Nam3\\pattern_reg\\seminar\\src\\vid_to_deepframes_rawframes.py:88: RuntimeWarning: invalid value encountered in divide\n",
      "  D_R[:,:,ka-1] = ( C_R[:,:,ka] - C_R[:,:,ka-1] ) / ( C_R[:,:,ka] + C_R[:,:,ka-1] );\n",
      "c:\\Long\\Uni\\Nam3\\pattern_reg\\seminar\\src\\vid_to_deepframes_rawframes.py:90: RuntimeWarning: invalid value encountered in divide\n",
      "  D_B[:,:,ka-1] = ( C_B[:,:,ka] - C_B[:,:,ka-1] ) / ( C_B[:,:,ka] + C_B[:,:,ka-1] );\n",
      "c:\\Long\\Uni\\Nam3\\pattern_reg\\seminar\\src\\vid_to_deepframes_rawframes.py:140: RuntimeWarning: invalid value encountered in cast\n",
      "  imagen[:,:,0] = D_R[:,:,k]\n",
      "c:\\Long\\Uni\\Nam3\\pattern_reg\\seminar\\src\\vid_to_deepframes_rawframes.py:141: RuntimeWarning: invalid value encountered in cast\n",
      "  imagen[:,:,1] = D_G[:,:,k]\n",
      "c:\\Long\\Uni\\Nam3\\pattern_reg\\seminar\\src\\vid_to_deepframes_rawframes.py:142: RuntimeWarning: invalid value encountered in cast\n",
      "  imagen[:,:,2] = D_B[:,:,k]\n"
     ]
    },
    {
     "name": "stdout",
     "output_type": "stream",
     "text": [
      "Exiting...\n"
     ]
    }
   ],
   "source": [
    "vid_to_frames_rawframes()"
   ]
  }
 ],
 "metadata": {
  "kernelspec": {
   "display_name": "venv",
   "language": "python",
   "name": "python3"
  },
  "language_info": {
   "codemirror_mode": {
    "name": "ipython",
    "version": 3
   },
   "file_extension": ".py",
   "mimetype": "text/x-python",
   "name": "python",
   "nbconvert_exporter": "python",
   "pygments_lexer": "ipython3",
   "version": "3.10.8"
  }
 },
 "nbformat": 4,
 "nbformat_minor": 2
}
